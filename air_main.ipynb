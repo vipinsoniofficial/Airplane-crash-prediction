{
 "cells": [
  {
   "cell_type": "code",
   "execution_count": 29,
   "metadata": {},
   "outputs": [],
   "source": [
    "import pandas as pd\n",
    "from sklearn.preprocessing import StandardScaler\n",
    "from sklearn.model_selection import *\n",
    "from sklearn.tree import DecisionTreeClassifier\n",
    "from sklearn.metrics import plot_confusion_matrix\n",
    "from sklearn.impute import SimpleImputer\n",
    "#import graphviz \n",
    "from sklearn import tree\n",
    "#import matplotlib.pyplot as plt\n",
    "import numpy as np\n",
    "from sklearn.ensemble import RandomForestClassifier,VotingClassifier\n",
    "from xgboost import XGBClassifier\n",
    "from sklearn.neural_network import MLPClassifier\n",
    "from sklearn.discriminant_analysis import LinearDiscriminantAnalysis\n",
    "from sklearn.discriminant_analysis import QuadraticDiscriminantAnalysis\n",
    "from sklearn.linear_model import LogisticRegression\n",
    "from sklearn.ensemble import StackingClassifier"
   ]
  },
  {
   "cell_type": "code",
   "execution_count": 8,
   "metadata": {},
   "outputs": [
    {
     "name": "stdout",
     "output_type": "stream",
     "text": [
      "0                  Minor_Damage_And_Injuries\n",
      "1                  Minor_Damage_And_Injuries\n",
      "2          Significant_Damage_And_Fatalities\n",
      "3    Significant_Damage_And_Serious_Injuries\n",
      "4          Significant_Damage_And_Fatalities\n",
      "Name: Severity, dtype: object\n",
      "Index(['Minor_Damage_And_Injuries', 'Significant_Damage_And_Fatalities',\n",
      "       'Significant_Damage_And_Serious_Injuries', 'Highly_Fatal_And_Damaging'],\n",
      "      dtype='object')\n"
     ]
    },
    {
     "name": "stderr",
     "output_type": "stream",
     "text": [
      "/home/acts1/miniconda3/lib/python3.7/site-packages/sklearn/model_selection/_split.py:296: FutureWarning: Setting a random_state has no effect since shuffle is False. This will raise an error in 0.24. You should leave random_state to its default (None), or set shuffle=True.\n",
      "  FutureWarning\n"
     ]
    }
   ],
   "source": [
    "train=pd.read_csv(r\"/home/acts1/dbdag4/airplane/3c055e822d5b11ea/train.csv\")\n",
    "test=pd.read_csv(r\"/home/acts1/dbdag4/airplane/3c055e822d5b11ea/test.csv\")\n",
    "train.isnull().sum()\n",
    "\n",
    "print(train.Severity.head())\n",
    "print(definitions)\n",
    "\n",
    "X_temp=train.drop(['Severity','Accident_ID'],axis=1)\n",
    "y=train['Severity']\n",
    "y.unique()\n",
    "\n",
    "scaler = StandardScaler()\n",
    "X_scale=scaler.fit_transform(X_temp)\n",
    "X=pd.DataFrame(X_scale)\n",
    "X.columns=X_temp.columns\n",
    "\n",
    "\n",
    "####test\n",
    "\n",
    "test.isnull().sum()\n",
    "\n",
    "\n",
    "X_temp_test=test.drop(['Accident_ID'],axis=1)\n",
    "\n",
    "scaler = StandardScaler()\n",
    "X_scale_test=scaler.fit_transform(X_temp_test)\n",
    "X_test=pd.DataFrame(X_scale_test)\n",
    "X_test.columns=X_temp_test.columns\n",
    "\n",
    "kfold = KFold(n_splits=10, random_state=17077)"
   ]
  },
  {
   "cell_type": "code",
   "execution_count": 9,
   "metadata": {},
   "outputs": [
    {
     "name": "stdout",
     "output_type": "stream",
     "text": [
      "{'learning_rate': 0.3, 'max_depth': 8, 'n_estimators': 100}\n",
      "0.9659000000000001\n"
     ]
    }
   ],
   "source": [
    "lr_range = [0.001, 0.01, 0.1, 0.2,0.25, 0.3]\n",
    "n_est_range = [10,20,30,50,100]\n",
    "md_range = [2,4,6,8,10]\n",
    "\n",
    "parameters = dict(learning_rate=lr_range,\n",
    "                  n_estimators=n_est_range,\n",
    "                  max_depth=md_range)\n",
    "\n",
    "clf = XGBClassifier(random_state=2000)\n",
    "cv_xg = GridSearchCV(clf, param_grid=parameters,\n",
    "                  cv=kfold,n_jobs=-1,scoring='accuracy')\n",
    "\n",
    "cv_xg.fit(X,y)\n",
    "\n",
    "#y_pred=cv_xg.predict_proba(X_test)[:,1]\n",
    "\n",
    "print(cv_xg.best_params_)\n",
    "\n",
    "print(cv_xg.best_score_)\n"
   ]
  },
  {
   "cell_type": "code",
   "execution_count": 6,
   "metadata": {},
   "outputs": [
    {
     "data": {
      "text/html": [
       "<div>\n",
       "<style scoped>\n",
       "    .dataframe tbody tr th:only-of-type {\n",
       "        vertical-align: middle;\n",
       "    }\n",
       "\n",
       "    .dataframe tbody tr th {\n",
       "        vertical-align: top;\n",
       "    }\n",
       "\n",
       "    .dataframe thead th {\n",
       "        text-align: right;\n",
       "    }\n",
       "</style>\n",
       "<table border=\"1\" class=\"dataframe\">\n",
       "  <thead>\n",
       "    <tr style=\"text-align: right;\">\n",
       "      <th></th>\n",
       "      <th>Safety_Score</th>\n",
       "      <th>Days_Since_Inspection</th>\n",
       "      <th>Total_Safety_Complaints</th>\n",
       "      <th>Control_Metric</th>\n",
       "      <th>Turbulence_In_gforces</th>\n",
       "      <th>Cabin_Temperature</th>\n",
       "      <th>Accident_Type_Code</th>\n",
       "      <th>Max_Elevation</th>\n",
       "      <th>Violations</th>\n",
       "      <th>Adverse_Weather_Metric</th>\n",
       "    </tr>\n",
       "  </thead>\n",
       "  <tbody>\n",
       "    <tr>\n",
       "      <th>0</th>\n",
       "      <td>-1.371727</td>\n",
       "      <td>0.866845</td>\n",
       "      <td>-0.080077</td>\n",
       "      <td>0.592957</td>\n",
       "      <td>0.109134</td>\n",
       "      <td>-0.616620</td>\n",
       "      <td>0.077985</td>\n",
       "      <td>0.586995</td>\n",
       "      <td>0.009034</td>\n",
       "      <td>-0.467493</td>\n",
       "    </tr>\n",
       "    <tr>\n",
       "      <th>1</th>\n",
       "      <td>1.004384</td>\n",
       "      <td>0.582969</td>\n",
       "      <td>-0.498014</td>\n",
       "      <td>-0.068431</td>\n",
       "      <td>-1.071998</td>\n",
       "      <td>-0.513424</td>\n",
       "      <td>1.676045</td>\n",
       "      <td>-0.230758</td>\n",
       "      <td>0.009034</td>\n",
       "      <td>-0.640138</td>\n",
       "    </tr>\n",
       "    <tr>\n",
       "      <th>2</th>\n",
       "      <td>-0.524519</td>\n",
       "      <td>0.582969</td>\n",
       "      <td>-0.498014</td>\n",
       "      <td>-0.056478</td>\n",
       "      <td>-0.338031</td>\n",
       "      <td>2.567706</td>\n",
       "      <td>1.143358</td>\n",
       "      <td>-1.561731</td>\n",
       "      <td>-0.972910</td>\n",
       "      <td>-0.636168</td>\n",
       "    </tr>\n",
       "    <tr>\n",
       "      <th>3</th>\n",
       "      <td>-2.367618</td>\n",
       "      <td>2.286227</td>\n",
       "      <td>-0.219389</td>\n",
       "      <td>0.086956</td>\n",
       "      <td>0.389769</td>\n",
       "      <td>0.319513</td>\n",
       "      <td>-0.454701</td>\n",
       "      <td>0.825254</td>\n",
       "      <td>0.009034</td>\n",
       "      <td>-0.131314</td>\n",
       "    </tr>\n",
       "    <tr>\n",
       "      <th>4</th>\n",
       "      <td>-1.901934</td>\n",
       "      <td>1.434598</td>\n",
       "      <td>-0.637327</td>\n",
       "      <td>-0.809504</td>\n",
       "      <td>-0.538484</td>\n",
       "      <td>-0.284919</td>\n",
       "      <td>-0.987388</td>\n",
       "      <td>0.328201</td>\n",
       "      <td>0.009034</td>\n",
       "      <td>0.600666</td>\n",
       "    </tr>\n",
       "    <tr>\n",
       "      <th>...</th>\n",
       "      <td>...</td>\n",
       "      <td>...</td>\n",
       "      <td>...</td>\n",
       "      <td>...</td>\n",
       "      <td>...</td>\n",
       "      <td>...</td>\n",
       "      <td>...</td>\n",
       "      <td>...</td>\n",
       "      <td>...</td>\n",
       "      <td>...</td>\n",
       "    </tr>\n",
       "    <tr>\n",
       "      <th>2495</th>\n",
       "      <td>1.615945</td>\n",
       "      <td>-1.404167</td>\n",
       "      <td>0.616486</td>\n",
       "      <td>-1.371285</td>\n",
       "      <td>0.809178</td>\n",
       "      <td>-0.808269</td>\n",
       "      <td>-0.987388</td>\n",
       "      <td>1.673323</td>\n",
       "      <td>0.009034</td>\n",
       "      <td>1.053963</td>\n",
       "    </tr>\n",
       "    <tr>\n",
       "      <th>2496</th>\n",
       "      <td>0.799595</td>\n",
       "      <td>-1.120290</td>\n",
       "      <td>0.337861</td>\n",
       "      <td>0.509288</td>\n",
       "      <td>0.349678</td>\n",
       "      <td>-0.082213</td>\n",
       "      <td>1.143358</td>\n",
       "      <td>-1.225446</td>\n",
       "      <td>-0.972910</td>\n",
       "      <td>-0.634379</td>\n",
       "    </tr>\n",
       "    <tr>\n",
       "      <th>2497</th>\n",
       "      <td>-0.314119</td>\n",
       "      <td>0.299092</td>\n",
       "      <td>0.477173</td>\n",
       "      <td>2.258380</td>\n",
       "      <td>-0.532316</td>\n",
       "      <td>1.462037</td>\n",
       "      <td>1.143358</td>\n",
       "      <td>0.452692</td>\n",
       "      <td>0.009034</td>\n",
       "      <td>-0.625041</td>\n",
       "    </tr>\n",
       "    <tr>\n",
       "      <th>2498</th>\n",
       "      <td>-0.190685</td>\n",
       "      <td>0.015216</td>\n",
       "      <td>1.034423</td>\n",
       "      <td>0.680611</td>\n",
       "      <td>-0.865377</td>\n",
       "      <td>-0.963062</td>\n",
       "      <td>1.143358</td>\n",
       "      <td>-0.861711</td>\n",
       "      <td>-0.972910</td>\n",
       "      <td>-0.631188</td>\n",
       "    </tr>\n",
       "    <tr>\n",
       "      <th>2499</th>\n",
       "      <td>-0.353394</td>\n",
       "      <td>-0.552537</td>\n",
       "      <td>-0.776639</td>\n",
       "      <td>-0.411077</td>\n",
       "      <td>-1.025739</td>\n",
       "      <td>1.683171</td>\n",
       "      <td>0.610672</td>\n",
       "      <td>0.372977</td>\n",
       "      <td>-1.954853</td>\n",
       "      <td>-0.584327</td>\n",
       "    </tr>\n",
       "  </tbody>\n",
       "</table>\n",
       "<p>2500 rows × 10 columns</p>\n",
       "</div>"
      ],
      "text/plain": [
       "      Safety_Score  Days_Since_Inspection  Total_Safety_Complaints  \\\n",
       "0        -1.371727               0.866845                -0.080077   \n",
       "1         1.004384               0.582969                -0.498014   \n",
       "2        -0.524519               0.582969                -0.498014   \n",
       "3        -2.367618               2.286227                -0.219389   \n",
       "4        -1.901934               1.434598                -0.637327   \n",
       "...            ...                    ...                      ...   \n",
       "2495      1.615945              -1.404167                 0.616486   \n",
       "2496      0.799595              -1.120290                 0.337861   \n",
       "2497     -0.314119               0.299092                 0.477173   \n",
       "2498     -0.190685               0.015216                 1.034423   \n",
       "2499     -0.353394              -0.552537                -0.776639   \n",
       "\n",
       "      Control_Metric  Turbulence_In_gforces  Cabin_Temperature  \\\n",
       "0           0.592957               0.109134          -0.616620   \n",
       "1          -0.068431              -1.071998          -0.513424   \n",
       "2          -0.056478              -0.338031           2.567706   \n",
       "3           0.086956               0.389769           0.319513   \n",
       "4          -0.809504              -0.538484          -0.284919   \n",
       "...              ...                    ...                ...   \n",
       "2495       -1.371285               0.809178          -0.808269   \n",
       "2496        0.509288               0.349678          -0.082213   \n",
       "2497        2.258380              -0.532316           1.462037   \n",
       "2498        0.680611              -0.865377          -0.963062   \n",
       "2499       -0.411077              -1.025739           1.683171   \n",
       "\n",
       "      Accident_Type_Code  Max_Elevation  Violations  Adverse_Weather_Metric  \n",
       "0               0.077985       0.586995    0.009034               -0.467493  \n",
       "1               1.676045      -0.230758    0.009034               -0.640138  \n",
       "2               1.143358      -1.561731   -0.972910               -0.636168  \n",
       "3              -0.454701       0.825254    0.009034               -0.131314  \n",
       "4              -0.987388       0.328201    0.009034                0.600666  \n",
       "...                  ...            ...         ...                     ...  \n",
       "2495           -0.987388       1.673323    0.009034                1.053963  \n",
       "2496            1.143358      -1.225446   -0.972910               -0.634379  \n",
       "2497            1.143358       0.452692    0.009034               -0.625041  \n",
       "2498            1.143358      -0.861711   -0.972910               -0.631188  \n",
       "2499            0.610672       0.372977   -1.954853               -0.584327  \n",
       "\n",
       "[2500 rows x 10 columns]"
      ]
     },
     "execution_count": 6,
     "metadata": {},
     "output_type": "execute_result"
    }
   ],
   "source": [
    "X_test"
   ]
  },
  {
   "cell_type": "code",
   "execution_count": 10,
   "metadata": {},
   "outputs": [
    {
     "name": "stdout",
     "output_type": "stream",
     "text": [
      "Fitting 10 folds for each of 10 candidates, totalling 100 fits\n"
     ]
    },
    {
     "name": "stderr",
     "output_type": "stream",
     "text": [
      "[Parallel(n_jobs=-1)]: Using backend LokyBackend with 28 concurrent workers.\n",
      "[Parallel(n_jobs=-1)]: Done  79 out of 100 | elapsed:    6.2s remaining:    1.6s\n",
      "[Parallel(n_jobs=-1)]: Done 100 out of 100 | elapsed:    8.6s finished\n"
     ]
    },
    {
     "name": "stdout",
     "output_type": "stream",
     "text": [
      "{'max_features': 7}\n",
      "0.9561\n"
     ]
    }
   ],
   "source": [
    "#################################random forest#################################\n",
    "\n",
    "parameters = {'max_features': np.arange(1,11)}\n",
    "model_rf = RandomForestClassifier(random_state=1211)\n",
    "cv_rf = GridSearchCV(model_rf, param_grid=parameters,cv=kfold,n_jobs=-1,scoring='accuracy',verbose=3)\n",
    "\n",
    "cv_rf.fit( X , y )\n",
    "print(cv_rf.best_params_)\n",
    "print(cv_rf.best_score_)\n",
    "\n"
   ]
  },
  {
   "cell_type": "code",
   "execution_count": 23,
   "metadata": {},
   "outputs": [],
   "source": [
    "y_pred_rf=cv_rf.predict(X_test)\n",
    "output_rf=pd.DataFrame()\n",
    "output_rf['Accident_ID']=test['Accident_ID']\n",
    "output_rf['Severity']=y_pred_rf\n",
    "output_rf.to_csv(r\"output_rf.csv\",index=False)"
   ]
  },
  {
   "cell_type": "code",
   "execution_count": 11,
   "metadata": {},
   "outputs": [
    {
     "name": "stdout",
     "output_type": "stream",
     "text": [
      "Fitting 10 folds for each of 160 candidates, totalling 1600 fits\n"
     ]
    },
    {
     "name": "stderr",
     "output_type": "stream",
     "text": [
      "[Parallel(n_jobs=-1)]: Using backend LokyBackend with 28 concurrent workers.\n",
      "[Parallel(n_jobs=-1)]: Done  72 tasks      | elapsed:    4.3s\n",
      "[Parallel(n_jobs=-1)]: Done 232 tasks      | elapsed:   10.5s\n",
      "[Parallel(n_jobs=-1)]: Done 456 tasks      | elapsed:   19.1s\n",
      "[Parallel(n_jobs=-1)]: Done 744 tasks      | elapsed:   28.3s\n",
      "[Parallel(n_jobs=-1)]: Done 1096 tasks      | elapsed:   37.6s\n",
      "[Parallel(n_jobs=-1)]: Done 1512 tasks      | elapsed:   45.4s\n",
      "[Parallel(n_jobs=-1)]: Done 1600 out of 1600 | elapsed:   46.7s finished\n"
     ]
    },
    {
     "name": "stdout",
     "output_type": "stream",
     "text": [
      "{'activation': 'tanh', 'hidden_layer_sizes': (10, 5, 3), 'learning_rate_init': 0.01}\n",
      "0.9414999999999999\n"
     ]
    }
   ],
   "source": [
    "#########################mlp####################################\n",
    "\n",
    "\n",
    "lr_range = np.linspace(0.01,0.8,10)\n",
    "hl_range = [(4,3,2),(3,2),(5,4,3,2),(10,5,3)]\n",
    "act_range = ['logistic','tanh','relu','identity']\n",
    "\n",
    "parameters = dict(learning_rate_init=lr_range,hidden_layer_sizes = hl_range,\n",
    "                  activation = act_range)\n",
    "\n",
    "mlp = MLPClassifier(random_state=17077,learning_rate='constant')\n",
    "mlpGrid = GridSearchCV(mlp, param_grid=parameters, cv=kfold,scoring='accuracy',n_jobs=-1,verbose=3)\n",
    "mlpGrid.fit(X, y)\n",
    "\n",
    "print(mlpGrid.best_params_)\n",
    "\n",
    "print(mlpGrid.best_score_)\n",
    "\n",
    "#{'activation': 'tanh', 'hidden_layer_sizes': (10, 5, 3), 'learning_rate_init': 0.01}\n",
    "# 0.9397\n",
    "\n",
    "\n",
    "\n"
   ]
  },
  {
   "cell_type": "code",
   "execution_count": 6,
   "metadata": {},
   "outputs": [
    {
     "name": "stdout",
     "output_type": "stream",
     "text": [
      "Fitting 5 folds for each of 36 candidates, totalling 180 fits\n"
     ]
    },
    {
     "name": "stderr",
     "output_type": "stream",
     "text": [
      "/home/acts1/miniconda3/lib/python3.7/site-packages/sklearn/model_selection/_split.py:296: FutureWarning: Setting a random_state has no effect since shuffle is False. This will raise an error in 0.24. You should leave random_state to its default (None), or set shuffle=True.\n",
      "  FutureWarning\n",
      "[Parallel(n_jobs=-1)]: Using backend LokyBackend with 28 concurrent workers.\n"
     ]
    },
    {
     "name": "stdout",
     "output_type": "stream",
     "text": [
      "{'max_depth': 14, 'min_samples_leaf': 3, 'min_samples_split': 7}\n",
      "0.9259999999999999\n"
     ]
    },
    {
     "name": "stderr",
     "output_type": "stream",
     "text": [
      "[Parallel(n_jobs=-1)]: Done 180 out of 180 | elapsed:    0.5s finished\n"
     ]
    }
   ],
   "source": [
    "############################decision tree#############################\n",
    "depth_range = [3,5,14]\n",
    "minsplit_range =[3,5,7,9]\n",
    "minleaf_range =[3,5,7]\n",
    "##14/7/3\n",
    "parameters = dict(max_depth=depth_range,min_samples_split=minsplit_range,\n",
    "                  min_samples_leaf=minleaf_range)\n",
    "\n",
    "kfold = StratifiedKFold(n_splits=5, random_state=17077)\n",
    "\n",
    "clf = DecisionTreeClassifier(random_state=17077)\n",
    "cv_dt = GridSearchCV(clf, param_grid=parameters,cv=kfold,scoring='accuracy',n_jobs=-1,verbose=3)\n",
    "cv_dt.fit(X,y)\n",
    "\n",
    "print(cv_dt.best_params_)\n",
    "\n",
    "print(cv_dt.best_score_)\n",
    "#########################################################\n"
   ]
  },
  {
   "cell_type": "code",
   "execution_count": 12,
   "metadata": {},
   "outputs": [
    {
     "name": "stdout",
     "output_type": "stream",
     "text": [
      "[CV]  ................................................................\n",
      "[CV] .................................... , score=0.627, total=   0.2s\n"
     ]
    },
    {
     "name": "stderr",
     "output_type": "stream",
     "text": [
      "[Parallel(n_jobs=1)]: Using backend SequentialBackend with 1 concurrent workers.\n",
      "[Parallel(n_jobs=1)]: Done   1 out of   1 | elapsed:    0.2s remaining:    0.0s\n"
     ]
    },
    {
     "name": "stdout",
     "output_type": "stream",
     "text": [
      "[CV]  ................................................................\n",
      "[CV] .................................... , score=0.641, total=   0.0s\n",
      "[CV]  ................................................................\n",
      "[CV] .................................... , score=0.654, total=   0.0s\n",
      "[CV]  ................................................................\n",
      "[CV] .................................... , score=0.631, total=   0.0s\n",
      "[CV]  ................................................................\n",
      "[CV] .................................... , score=0.644, total=   0.0s\n",
      "[CV]  ................................................................\n",
      "[CV] .................................... , score=0.659, total=   0.0s\n",
      "[CV]  ................................................................\n",
      "[CV] .................................... , score=0.660, total=   0.0s\n",
      "[CV]  ................................................................\n",
      "[CV] .................................... , score=0.647, total=   0.0s\n",
      "[CV]  ................................................................\n",
      "[CV] .................................... , score=0.639, total=   0.0s\n",
      "[CV]  ................................................................\n",
      "[CV] .................................... , score=0.661, total=   0.0s\n"
     ]
    },
    {
     "name": "stderr",
     "output_type": "stream",
     "text": [
      "[Parallel(n_jobs=1)]: Done   2 out of   2 | elapsed:    0.2s remaining:    0.0s\n",
      "[Parallel(n_jobs=1)]: Done  10 out of  10 | elapsed:    0.4s finished\n"
     ]
    },
    {
     "data": {
      "text/plain": [
       "0.6463000000000001"
      ]
     },
     "execution_count": 12,
     "metadata": {},
     "output_type": "execute_result"
    }
   ],
   "source": [
    "############################lda##########################\n",
    "\n",
    "\n",
    "lda = LinearDiscriminantAnalysis()\n",
    "cv_lda = cross_val_score(lda, X, y, cv=kfold,scoring='accuracy',verbose=3)\n",
    "cv_lda.mean()\n",
    "#########################################################\n",
    "\n"
   ]
  },
  {
   "cell_type": "code",
   "execution_count": 13,
   "metadata": {},
   "outputs": [
    {
     "name": "stderr",
     "output_type": "stream",
     "text": [
      "[Parallel(n_jobs=-1)]: Using backend LokyBackend with 28 concurrent workers.\n",
      "[Parallel(n_jobs=-1)]: Done   3 out of  10 | elapsed:    0.0s remaining:    0.1s\n",
      "[Parallel(n_jobs=-1)]: Done   7 out of  10 | elapsed:    0.1s remaining:    0.0s\n",
      "[Parallel(n_jobs=-1)]: Done  10 out of  10 | elapsed:    0.1s finished\n"
     ]
    },
    {
     "data": {
      "text/plain": [
       "0.7946000000000001"
      ]
     },
     "execution_count": 13,
     "metadata": {},
     "output_type": "execute_result"
    }
   ],
   "source": [
    "##########################qda###############################\n",
    "\n",
    "\n",
    "qda = QuadraticDiscriminantAnalysis()\n",
    "cv_qda = cross_val_score(qda, X, y, cv=kfold,n_jobs=-1,scoring='accuracy',verbose=3)\n",
    "cv_qda.mean()\n",
    "#########################################################\n"
   ]
  },
  {
   "cell_type": "code",
   "execution_count": 14,
   "metadata": {},
   "outputs": [
    {
     "name": "stderr",
     "output_type": "stream",
     "text": [
      "[Parallel(n_jobs=-1)]: Using backend LokyBackend with 28 concurrent workers.\n",
      "[Parallel(n_jobs=-1)]: Done   3 out of  10 | elapsed:    0.1s remaining:    0.3s\n",
      "[Parallel(n_jobs=-1)]: Done   7 out of  10 | elapsed:    0.1s remaining:    0.1s\n",
      "[Parallel(n_jobs=-1)]: Done  10 out of  10 | elapsed:    0.2s finished\n"
     ]
    },
    {
     "data": {
      "text/plain": [
       "0.6408999999999999"
      ]
     },
     "execution_count": 14,
     "metadata": {},
     "output_type": "execute_result"
    }
   ],
   "source": [
    "############################logisitc#############################\n",
    "\n",
    "logreg = LogisticRegression()\n",
    "cv_logreg = cross_val_score(logreg, X, y, cv=kfold,n_jobs=-1,scoring='accuracy',verbose=3)\n",
    "cv_logreg.mean()\n",
    "#########################################################\n"
   ]
  },
  {
   "cell_type": "code",
   "execution_count": 15,
   "metadata": {},
   "outputs": [
    {
     "name": "stderr",
     "output_type": "stream",
     "text": [
      "[Parallel(n_jobs=-1)]: Using backend LokyBackend with 28 concurrent workers.\n",
      "[Parallel(n_jobs=-1)]: Done   3 out of  10 | elapsed:  1.1min remaining:  2.7min\n",
      "[Parallel(n_jobs=-1)]: Done   7 out of  10 | elapsed:  1.2min remaining:   29.7s\n",
      "[Parallel(n_jobs=-1)]: Done  10 out of  10 | elapsed:  1.2min finished\n"
     ]
    },
    {
     "data": {
      "text/plain": [
       "0.9552999999999999"
      ]
     },
     "execution_count": 15,
     "metadata": {},
     "output_type": "execute_result"
    }
   ],
   "source": [
    "########################stacking\n",
    "\n",
    "model_rf = RandomForestClassifier(random_state=1211)\n",
    "model_mlp = MLPClassifier(random_state=17077,learning_rate='constant')\n",
    "ourEstimators = [('RF',model_rf),('MNP',model_mlp)]\n",
    "xgb = XGBClassifier()\n",
    "reg = StackingClassifier(estimators=ourEstimators,cv=kfold,final_estimator=xgb,passthrough=False)\n",
    "#reg.fit(X, y)\n",
    "\n",
    "\n",
    "cv = cross_val_score(reg, X,y,cv=kfold,n_jobs=-1,verbose=3)\n",
    "cv.mean()\n",
    "\n",
    "# 0.9518000000000001\n"
   ]
  },
  {
   "cell_type": "code",
   "execution_count": 16,
   "metadata": {},
   "outputs": [
    {
     "name": "stderr",
     "output_type": "stream",
     "text": [
      "[Parallel(n_jobs=-1)]: Using backend LokyBackend with 28 concurrent workers.\n",
      "[Parallel(n_jobs=-1)]: Done   3 out of  10 | elapsed:  1.3min remaining:  3.1min\n",
      "[Parallel(n_jobs=-1)]: Done   7 out of  10 | elapsed:  1.3min remaining:   34.7s\n",
      "[Parallel(n_jobs=-1)]: Done  10 out of  10 | elapsed:  1.4min finished\n"
     ]
    },
    {
     "data": {
      "text/plain": [
       "0.9469999999999998"
      ]
     },
     "execution_count": 16,
     "metadata": {},
     "output_type": "execute_result"
    }
   ],
   "source": [
    "### or\n",
    "ourEstimators = [('XGB',xgb),('MNP',model_mlp)]\n",
    "reg = StackingClassifier(estimators=ourEstimators,cv=kfold,final_estimator=model_rf,passthrough=False)\n",
    "cv_1 = cross_val_score(reg, X,y,cv=kfold,n_jobs=-1,verbose=3)\n",
    "cv_1.mean()"
   ]
  },
  {
   "cell_type": "code",
   "execution_count": 17,
   "metadata": {},
   "outputs": [
    {
     "name": "stderr",
     "output_type": "stream",
     "text": [
      "[Parallel(n_jobs=-1)]: Using backend LokyBackend with 28 concurrent workers.\n",
      "[Parallel(n_jobs=-1)]: Done   3 out of  10 | elapsed:  1.5min remaining:  3.5min\n",
      "[Parallel(n_jobs=-1)]: Done   7 out of  10 | elapsed:  1.6min remaining:   40.5s\n",
      "[Parallel(n_jobs=-1)]: Done  10 out of  10 | elapsed:  1.6min finished\n"
     ]
    },
    {
     "data": {
      "text/plain": [
       "0.9560999999999998"
      ]
     },
     "execution_count": 17,
     "metadata": {},
     "output_type": "execute_result"
    }
   ],
   "source": [
    "### or\n",
    "ourEstimators = [('XGB',xgb),('RF',model_rf),('MNP',model_mlp)]\n",
    "reg = StackingClassifier(estimators=ourEstimators,cv=kfold,final_estimator=xgb,passthrough=False)\n",
    "cv_2 = cross_val_score(reg, X,y,cv=kfold,n_jobs=-1,verbose=3)\n",
    "cv_2.mean()"
   ]
  },
  {
   "cell_type": "code",
   "execution_count": 18,
   "metadata": {},
   "outputs": [
    {
     "name": "stderr",
     "output_type": "stream",
     "text": [
      "[Parallel(n_jobs=-1)]: Using backend LokyBackend with 28 concurrent workers.\n",
      "[Parallel(n_jobs=-1)]: Done   3 out of  10 | elapsed:   13.7s remaining:   32.0s\n",
      "[Parallel(n_jobs=-1)]: Done   7 out of  10 | elapsed:   13.9s remaining:    5.9s\n",
      "[Parallel(n_jobs=-1)]: Done  10 out of  10 | elapsed:   13.9s finished\n"
     ]
    },
    {
     "data": {
      "text/plain": [
       "0.9382999999999999"
      ]
     },
     "execution_count": 18,
     "metadata": {},
     "output_type": "execute_result"
    }
   ],
   "source": [
    "### or\n",
    "ourEstimators = [('RF',model_rf)]\n",
    "reg = StackingClassifier(estimators=ourEstimators,cv=kfold,final_estimator=xgb,passthrough=False)\n",
    "cv_3 = cross_val_score(reg, X,y,cv=kfold,n_jobs=-1,verbose=3)\n",
    "cv_3.mean()"
   ]
  },
  {
   "cell_type": "code",
   "execution_count": 19,
   "metadata": {},
   "outputs": [
    {
     "name": "stderr",
     "output_type": "stream",
     "text": [
      "[Parallel(n_jobs=-1)]: Using backend LokyBackend with 28 concurrent workers.\n",
      "[Parallel(n_jobs=-1)]: Done   3 out of  10 | elapsed:   15.9s remaining:   37.2s\n",
      "[Parallel(n_jobs=-1)]: Done   7 out of  10 | elapsed:   16.0s remaining:    6.8s\n",
      "[Parallel(n_jobs=-1)]: Done  10 out of  10 | elapsed:   16.1s finished\n"
     ]
    },
    {
     "data": {
      "text/plain": [
       "0.9023999999999999"
      ]
     },
     "execution_count": 19,
     "metadata": {},
     "output_type": "execute_result"
    }
   ],
   "source": [
    "### or\n",
    "ourEstimators = [('XGB',xgb)]\n",
    "reg = StackingClassifier(estimators=ourEstimators,cv=kfold,final_estimator=model_rf,passthrough=False)\n",
    "cv_4 = cross_val_score(reg, X,y,cv=kfold,n_jobs=-1,verbose=3)\n",
    "cv_4.mean()"
   ]
  },
  {
   "cell_type": "code",
   "execution_count": 24,
   "metadata": {},
   "outputs": [
    {
     "name": "stderr",
     "output_type": "stream",
     "text": [
      "[Parallel(n_jobs=-1)]: Using backend LokyBackend with 28 concurrent workers.\n",
      "[Parallel(n_jobs=-1)]: Done   3 out of  10 | elapsed:  1.3min remaining:  3.1min\n",
      "[Parallel(n_jobs=-1)]: Done   7 out of  10 | elapsed:  1.4min remaining:   36.2s\n",
      "[Parallel(n_jobs=-1)]: Done  10 out of  10 | elapsed:  1.4min finished\n"
     ]
    },
    {
     "data": {
      "text/plain": [
       "0.9577"
      ]
     },
     "execution_count": 24,
     "metadata": {},
     "output_type": "execute_result"
    }
   ],
   "source": [
    "model_dt = DecisionTreeClassifier()\n",
    "model_lda = LinearDiscriminantAnalysis()\n",
    "model_qda = QuadraticDiscriminantAnalysis()\n",
    "model_logreg = LogisticRegression()\n",
    "ourEstimators = [('RF',model_rf),('MNP',model_mlp),('DT',model_dt),('LDA',model_lda),('QDA',model_qda),\n",
    "                 ('logreg',model_logreg)]\n",
    "reg_s6 = StackingClassifier(estimators=ourEstimators,cv=kfold,final_estimator=xgb,passthrough=False)\n",
    "cv_5 = cross_val_score(reg_s6, X,y,cv=kfold,n_jobs=-1,verbose=3)\n",
    "cv_5.mean()"
   ]
  },
  {
   "cell_type": "code",
   "execution_count": 27,
   "metadata": {},
   "outputs": [
    {
     "name": "stderr",
     "output_type": "stream",
     "text": [
      "/home/acts1/miniconda3/lib/python3.7/site-packages/sklearn/neural_network/_multilayer_perceptron.py:571: ConvergenceWarning: Stochastic Optimizer: Maximum iterations (200) reached and the optimization hasn't converged yet.\n",
      "  % self.max_iter, ConvergenceWarning)\n",
      "/home/acts1/miniconda3/lib/python3.7/site-packages/sklearn/neural_network/_multilayer_perceptron.py:571: ConvergenceWarning: Stochastic Optimizer: Maximum iterations (200) reached and the optimization hasn't converged yet.\n",
      "  % self.max_iter, ConvergenceWarning)\n",
      "/home/acts1/miniconda3/lib/python3.7/site-packages/sklearn/neural_network/_multilayer_perceptron.py:571: ConvergenceWarning: Stochastic Optimizer: Maximum iterations (200) reached and the optimization hasn't converged yet.\n",
      "  % self.max_iter, ConvergenceWarning)\n",
      "/home/acts1/miniconda3/lib/python3.7/site-packages/sklearn/neural_network/_multilayer_perceptron.py:571: ConvergenceWarning: Stochastic Optimizer: Maximum iterations (200) reached and the optimization hasn't converged yet.\n",
      "  % self.max_iter, ConvergenceWarning)\n",
      "/home/acts1/miniconda3/lib/python3.7/site-packages/sklearn/neural_network/_multilayer_perceptron.py:571: ConvergenceWarning: Stochastic Optimizer: Maximum iterations (200) reached and the optimization hasn't converged yet.\n",
      "  % self.max_iter, ConvergenceWarning)\n",
      "/home/acts1/miniconda3/lib/python3.7/site-packages/sklearn/neural_network/_multilayer_perceptron.py:571: ConvergenceWarning: Stochastic Optimizer: Maximum iterations (200) reached and the optimization hasn't converged yet.\n",
      "  % self.max_iter, ConvergenceWarning)\n",
      "/home/acts1/miniconda3/lib/python3.7/site-packages/sklearn/neural_network/_multilayer_perceptron.py:571: ConvergenceWarning: Stochastic Optimizer: Maximum iterations (200) reached and the optimization hasn't converged yet.\n",
      "  % self.max_iter, ConvergenceWarning)\n",
      "/home/acts1/miniconda3/lib/python3.7/site-packages/sklearn/neural_network/_multilayer_perceptron.py:571: ConvergenceWarning: Stochastic Optimizer: Maximum iterations (200) reached and the optimization hasn't converged yet.\n",
      "  % self.max_iter, ConvergenceWarning)\n",
      "/home/acts1/miniconda3/lib/python3.7/site-packages/sklearn/neural_network/_multilayer_perceptron.py:571: ConvergenceWarning: Stochastic Optimizer: Maximum iterations (200) reached and the optimization hasn't converged yet.\n",
      "  % self.max_iter, ConvergenceWarning)\n",
      "/home/acts1/miniconda3/lib/python3.7/site-packages/sklearn/neural_network/_multilayer_perceptron.py:571: ConvergenceWarning: Stochastic Optimizer: Maximum iterations (200) reached and the optimization hasn't converged yet.\n",
      "  % self.max_iter, ConvergenceWarning)\n",
      "/home/acts1/miniconda3/lib/python3.7/site-packages/sklearn/neural_network/_multilayer_perceptron.py:571: ConvergenceWarning: Stochastic Optimizer: Maximum iterations (200) reached and the optimization hasn't converged yet.\n",
      "  % self.max_iter, ConvergenceWarning)\n"
     ]
    },
    {
     "data": {
      "text/plain": [
       "StackingClassifier(cv=KFold(n_splits=10, random_state=17077, shuffle=False),\n",
       "                   estimators=[('RF',\n",
       "                                RandomForestClassifier(bootstrap=True,\n",
       "                                                       ccp_alpha=0.0,\n",
       "                                                       class_weight=None,\n",
       "                                                       criterion='gini',\n",
       "                                                       max_depth=None,\n",
       "                                                       max_features='auto',\n",
       "                                                       max_leaf_nodes=None,\n",
       "                                                       max_samples=None,\n",
       "                                                       min_impurity_decrease=0.0,\n",
       "                                                       min_impurity_split=None,\n",
       "                                                       min_samples_leaf=1,\n",
       "                                                       min_samples_split=2,\n",
       "                                                       min_weight...\n",
       "                                                 colsample_bynode=1,\n",
       "                                                 colsample_bytree=1, gamma=0,\n",
       "                                                 learning_rate=0.1,\n",
       "                                                 max_delta_step=0, max_depth=3,\n",
       "                                                 min_child_weight=1,\n",
       "                                                 missing=None, n_estimators=100,\n",
       "                                                 n_jobs=1, nthread=None,\n",
       "                                                 objective='binary:logistic',\n",
       "                                                 random_state=0, reg_alpha=0,\n",
       "                                                 reg_lambda=1,\n",
       "                                                 scale_pos_weight=1, seed=None,\n",
       "                                                 silent=None, subsample=1,\n",
       "                                                 verbosity=1),\n",
       "                   n_jobs=None, passthrough=False, stack_method='auto',\n",
       "                   verbose=0)"
      ]
     },
     "execution_count": 27,
     "metadata": {},
     "output_type": "execute_result"
    }
   ],
   "source": [
    "reg_s6.fit(X,y)"
   ]
  },
  {
   "cell_type": "code",
   "execution_count": 28,
   "metadata": {},
   "outputs": [],
   "source": [
    "y_pred_s6=reg_s6.predict(X_test)\n",
    "output_s6=pd.DataFrame()\n",
    "output_s6['Accident_ID']=test['Accident_ID']\n",
    "output_s6['Severity']=y_pred_s6\n",
    "output_s6.to_csv(r\"output_s6.csv\",index=False)"
   ]
  },
  {
   "cell_type": "code",
   "execution_count": 21,
   "metadata": {},
   "outputs": [
    {
     "name": "stderr",
     "output_type": "stream",
     "text": [
      "[Parallel(n_jobs=-1)]: Using backend LokyBackend with 28 concurrent workers.\n",
      "[Parallel(n_jobs=-1)]: Done   3 out of  10 | elapsed:    0.1s remaining:    0.1s\n",
      "[Parallel(n_jobs=-1)]: Done   7 out of  10 | elapsed:    0.1s remaining:    0.0s\n",
      "[Parallel(n_jobs=-1)]: Done  10 out of  10 | elapsed:    0.1s finished\n"
     ]
    },
    {
     "data": {
      "text/plain": [
       "nan"
      ]
     },
     "execution_count": 21,
     "metadata": {},
     "output_type": "execute_result"
    }
   ],
   "source": [
    "ourEstimators = [('MNP',model_mlp),('DT',model_dt),('LDA',model_lda),('QDA',model_qda),\n",
    "                 ('logreg',model_logreg)]\n",
    "finalEstimators = [('RF',model_rf),('XGB',xgb)]\n",
    "reg = StackingClassifier(estimators=ourEstimators,cv=kfold,final_estimator=finalEstimators,passthrough=False)\n",
    "cv_6 = cross_val_score(reg, X,y,cv=kfold,n_jobs=-1,verbose=3)\n",
    "cv_6.mean()"
   ]
  },
  {
   "cell_type": "code",
   "execution_count": 35,
   "metadata": {
    "scrolled": true
   },
   "outputs": [
    {
     "data": {
      "text/plain": [
       "VotingClassifier(estimators=[('RF',\n",
       "                              RandomForestClassifier(bootstrap=True,\n",
       "                                                     ccp_alpha=0.0,\n",
       "                                                     class_weight=None,\n",
       "                                                     criterion='gini',\n",
       "                                                     max_depth=None,\n",
       "                                                     max_features='auto',\n",
       "                                                     max_leaf_nodes=None,\n",
       "                                                     max_samples=None,\n",
       "                                                     min_impurity_decrease=0.0,\n",
       "                                                     min_impurity_split=None,\n",
       "                                                     min_samples_leaf=1,\n",
       "                                                     min_samples_split=2,\n",
       "                                                     min_weight_fraction_leaf=0.0,\n",
       "                                                     n_estimators=100,\n",
       "                                                     n_jobs=None,\n",
       "                                                     oob_score...\n",
       "                                            colsample_bynode=1,\n",
       "                                            colsample_bytree=1, gamma=0,\n",
       "                                            learning_rate=0.1, max_delta_step=0,\n",
       "                                            max_depth=3, min_child_weight=1,\n",
       "                                            missing=None, n_estimators=100,\n",
       "                                            n_jobs=1, nthread=None,\n",
       "                                            objective='binary:logistic',\n",
       "                                            random_state=0, reg_alpha=0,\n",
       "                                            reg_lambda=1, scale_pos_weight=1,\n",
       "                                            seed=None, silent=None, subsample=1,\n",
       "                                            verbosity=1))],\n",
       "                 flatten_transform=True, n_jobs=None, voting='hard',\n",
       "                 weights=None)"
      ]
     },
     "execution_count": 35,
     "metadata": {},
     "output_type": "execute_result"
    }
   ],
   "source": [
    "#voting=VotingClassifier(estimators=[('RF',model_rf),('XGB',xgb)],weights=np.array([0.3,0.5,0.2]))\n",
    "voting=VotingClassifier(estimators=[('RF',model_rf),('XGB',xgb)])\n",
    "voting.fit(X,y)"
   ]
  },
  {
   "cell_type": "code",
   "execution_count": 36,
   "metadata": {},
   "outputs": [],
   "source": [
    "y_pred_v=voting.predict(X_test)\n",
    "output_v=pd.DataFrame()\n",
    "output_v['Accident_ID']=test['Accident_ID']\n",
    "output_v['Severity']=y_pred_v\n",
    "output_v.to_csv(r\"output_v2.csv\",index=False)"
   ]
  },
  {
   "cell_type": "code",
   "execution_count": 17,
   "metadata": {},
   "outputs": [
    {
     "name": "stdout",
     "output_type": "stream",
     "text": [
      "xg\n",
      "0.9659000000000001\n",
      "rf\n",
      "0.9560000000000001\n",
      "mlp\n",
      "0.9447000000000001\n",
      "dt\n",
      "0.9259999999999999\n",
      "lda\n",
      "0.6463\n",
      "qda\n",
      "0.7938000000000001\n",
      "logreg\n",
      "0.6391\n",
      "stack1\n",
      "0.9536999999999999\n",
      "stack2\n",
      "0.9443999999999999\n",
      "stack3\n",
      "0.9529\n",
      "stack4\n",
      "0.9342\n",
      "stack5\n",
      "0.8992000000000001\n",
      "stack6\n",
      "0.9559\n",
      "stack7\n",
      "nan\n"
     ]
    }
   ],
   "source": [
    "print(\"xg\")\n",
    "print(cv_xg.best_score_)\n",
    "print(\"rf\")\n",
    "print(cv_rf.best_score_)\n",
    "print(\"mlp\")\n",
    "print(mlpGrid.best_score_)\n",
    "print(\"dt\")\n",
    "print(cv_dt.best_score_)\n",
    "print(\"lda\")\n",
    "print(cv_lda.mean())\n",
    "print(\"qda\")\n",
    "print(cv_qda.mean())\n",
    "print(\"logreg\")\n",
    "print(cv_logreg.mean())\n",
    "print(\"stack1\")\n",
    "print(cv.mean())\n",
    "print(\"stack2\")\n",
    "print(cv_1.mean())\n",
    "print(\"stack3\")\n",
    "print(cv_2.mean())\n",
    "print(\"stack4\")\n",
    "print(cv_3.mean())\n",
    "print(\"stack5\")\n",
    "print(cv_4.mean())\n",
    "print(\"stack6\")\n",
    "print(cv_5.mean())\n",
    "print(\"stack7\")\n",
    "print(cv_6.mean())"
   ]
  },
  {
   "cell_type": "code",
   "execution_count": null,
   "metadata": {},
   "outputs": [],
   "source": []
  }
 ],
 "metadata": {
  "kernelspec": {
   "display_name": "Python 3",
   "language": "python",
   "name": "python3"
  },
  "language_info": {
   "codemirror_mode": {
    "name": "ipython",
    "version": 3
   },
   "file_extension": ".py",
   "mimetype": "text/x-python",
   "name": "python",
   "nbconvert_exporter": "python",
   "pygments_lexer": "ipython3",
   "version": "3.7.4"
  }
 },
 "nbformat": 4,
 "nbformat_minor": 2
}
